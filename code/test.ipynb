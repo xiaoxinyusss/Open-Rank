{
 "cells": [
  {
   "cell_type": "code",
   "execution_count": 1,
   "metadata": {},
   "outputs": [
    {
     "name": "stdout",
     "output_type": "stream",
     "text": [
      "Warning raise in module:classes. Please install Pytorch before you use functions related to Hypergraph\n",
      "Warning raise in module:datapipe. Please install Pytorch before you use functions related to nueral network\n",
      " Please install Pytorch before use graph-related datasets and hypergraph-related datasets.\n",
      "Warning raise in module: experiments. Please install Pytorch before you use functions related to nueral network\n"
     ]
    },
    {
     "name": "stderr",
     "output_type": "stream",
     "text": [
      "c:\\Users\\alei\\anaconda3\\envs\\openrank\\Lib\\site-packages\\tqdm\\auto.py:21: TqdmWarning: IProgress not found. Please update jupyter and ipywidgets. See https://ipywidgets.readthedocs.io/en/stable/user_install.html\n",
      "  from .autonotebook import tqdm as notebook_tqdm\n"
     ]
    },
    {
     "name": "stdout",
     "output_type": "stream",
     "text": [
      "Warning raise in module:graph_embedding. Please install packages Pytorch before you use functions related to graph_embedding\n",
      "Warning raise in module:ml_metrics. Please install Pytorch before you use functions related to nueral network\n",
      "Warning raise in module:model.Please install Pytorch before you use functions related to Hypergraph\n",
      "Warning raise in module:nn. Please install Pytorch, torch_geometric, torch_scatter before you use functions related to AllDeepSet and AllSetTransformer.\n"
     ]
    }
   ],
   "source": [
    "import easygraph as eg\n",
    "G_c=eg.DiGraphC()"
   ]
  },
  {
   "cell_type": "code",
   "execution_count": 2,
   "metadata": {},
   "outputs": [
    {
     "data": {
      "text/plain": [
       "[(3, 5, {'weight': 4.0}),\n",
       " (6, 5, {'weight': 1.0}),\n",
       " (4, 6, {'weight': 3.0}),\n",
       " (2, 4, {'weight': 1.0}),\n",
       " (1, 3, {'weight': 1.0}),\n",
       " (1, 2, {'weight': 2.0})]"
      ]
     },
     "execution_count": 2,
     "metadata": {},
     "output_type": "execute_result"
    }
   ],
   "source": [
    "G_c.add_edges([(1,2), (2,4), (4,6), (6,5), (3,5), (1,3)],[{'weight': 2},{'weight': 1},{'weight': 3},{'weight': 1},{'weight': 4},{'weight': 1},])#Add edges with the corresponding edge weights\n",
    "G_c.edges\n",
    "[(3, 5, {'weight': 4.0}), (6, 5, {'weight': 1.0}), (4, 6, {'weight': 3.0}), (2, 4, {'weight': 1.0}), (1, 3, {'weight': 1.0}), (1, 2, {'weight': 2.0})]\n"
   ]
  },
  {
   "cell_type": "markdown",
   "metadata": {},
   "source": [
    "# 仓库标签处理"
   ]
  },
  {
   "cell_type": "code",
   "execution_count": 27,
   "metadata": {},
   "outputs": [],
   "source": [
    "import pandas as pd\n",
    "import requests\n",
    "# 修改后的 get_contributors 函数，确保返回字典\n",
    "def get_contributors(repo_name): \n",
    "    url_repo_contributors = f\"https://oss.open-digger.cn/github/{repo_name}/meta.json\"\n",
    "    try:\n",
    "        response = requests.get(url_repo_contributors)\n",
    "        response.raise_for_status()\n",
    "        contributors_data = response.json()\n",
    "        return contributors_data\n",
    "    except requests.exceptions.RequestException as e:\n",
    "        print(f\"Error fetching data for {repo_name}: {e}\")\n",
    "        return {}  # 返回空字典，而不是 set()\n",
    "\n",
    "# 从 Excel 文件读取数据\n",
    "repo_data = pd.read_excel(\"data/repo_list_github.xlsx\")\n",
    "repo_data=repo_data[:10]\n",
    "for i in range(len(repo_data)):\n",
    "    print(get_contributors(repo_data['repo_name'][i]))\n",
    "    print(\"****************************\\n\")"
   ]
  },
  {
   "cell_type": "code",
   "execution_count": 32,
   "metadata": {},
   "outputs": [],
   "source": [
    "import pandas as pd\n",
    "import requests\n",
    "\n",
    "# 修改后的 get_contributors 函数，确保返回字典\n",
    "def get_contributors(repo_name):\n",
    "    url_repo_contributors = f\"https://oss.open-digger.cn/github/{repo_name}/meta.json\"\n",
    "    try:\n",
    "        response = requests.get(url_repo_contributors)\n",
    "        response.raise_for_status()\n",
    "        contributors_data = response.json()\n",
    "        # 从返回的数据中提取技术类别标签\n",
    "        tech_labels = []\n",
    "        for label in contributors_data.get('labels', []):\n",
    "            # 检查 type 是否存在且不是 None\n",
    "            if label.get('type') and label['type'].startswith('Tech'):\n",
    "                tech_labels.append(label['name'])\n",
    "        return tech_labels\n",
    "    except requests.exceptions.RequestException as e:\n",
    "        print(f\"Error fetching data for {repo_name}: {e}\")\n",
    "        return []\n",
    "\n",
    "# 读取 Excel 文件\n",
    "repo_data = pd.read_excel(\"data/repo_list_github.xlsx\")\n",
    "repo_data=repo_data[:10]\n",
    "# 获取技术类别标签并更新 repo_data\n",
    "tech_categories = []\n",
    "for repo_name in repo_data['repo_name']:  # 假设Excel文件中有 'repo_name' 字段\n",
    "    tech_labels = get_contributors(repo_name)\n",
    "    tech_categories.append(', '.join(tech_labels))  # 用逗号分隔多个标签\n",
    "\n",
    "# 将技术类别标签添加为新的字段 'field'\n",
    "repo_data['field'] = tech_categories\n",
    "\n",
    "\n",
    "# 保存为 CSV 文件\n",
    "#repo_data.to_csv(\"repo_data_with_tech_labels.csv\", index=False)\n",
    "\n",
    "#print(\"数据已成功保存为 repo_data_with_tech_labels.csv\")\n"
   ]
  },
  {
   "cell_type": "code",
   "execution_count": 33,
   "metadata": {},
   "outputs": [
    {
     "data": {
      "text/html": [
       "<div>\n",
       "<style scoped>\n",
       "    .dataframe tbody tr th:only-of-type {\n",
       "        vertical-align: middle;\n",
       "    }\n",
       "\n",
       "    .dataframe tbody tr th {\n",
       "        vertical-align: top;\n",
       "    }\n",
       "\n",
       "    .dataframe thead th {\n",
       "        text-align: right;\n",
       "    }\n",
       "</style>\n",
       "<table border=\"1\" class=\"dataframe\">\n",
       "  <thead>\n",
       "    <tr style=\"text-align: right;\">\n",
       "      <th></th>\n",
       "      <th>id</th>\n",
       "      <th>platform</th>\n",
       "      <th>repo_name</th>\n",
       "      <th>field</th>\n",
       "    </tr>\n",
       "  </thead>\n",
       "  <tbody>\n",
       "    <tr>\n",
       "      <th>0</th>\n",
       "      <td>4542716</td>\n",
       "      <td>github</td>\n",
       "      <td>NixOS/nixpkgs</td>\n",
       "      <td></td>\n",
       "    </tr>\n",
       "    <tr>\n",
       "      <th>1</th>\n",
       "      <td>808144141</td>\n",
       "      <td>github</td>\n",
       "      <td>DigitalPlatDev/FreeDomain</td>\n",
       "      <td></td>\n",
       "    </tr>\n",
       "    <tr>\n",
       "      <th>2</th>\n",
       "      <td>75821432</td>\n",
       "      <td>github</td>\n",
       "      <td>llvm/llvm-project</td>\n",
       "      <td>Cloud Native, Cloud Native - Wasm, Cloud Nativ...</td>\n",
       "    </tr>\n",
       "    <tr>\n",
       "      <th>3</th>\n",
       "      <td>12888993</td>\n",
       "      <td>github</td>\n",
       "      <td>home-assistant/core</td>\n",
       "      <td></td>\n",
       "    </tr>\n",
       "    <tr>\n",
       "      <th>4</th>\n",
       "      <td>65600975</td>\n",
       "      <td>github</td>\n",
       "      <td>pytorch/pytorch</td>\n",
       "      <td>Artificial Intelligence</td>\n",
       "    </tr>\n",
       "    <tr>\n",
       "      <th>5</th>\n",
       "      <td>19745004</td>\n",
       "      <td>github</td>\n",
       "      <td>odoo/odoo</td>\n",
       "      <td></td>\n",
       "    </tr>\n",
       "    <tr>\n",
       "      <th>6</th>\n",
       "      <td>736802660</td>\n",
       "      <td>github</td>\n",
       "      <td>ghscr/ghscription</td>\n",
       "      <td></td>\n",
       "    </tr>\n",
       "    <tr>\n",
       "      <th>7</th>\n",
       "      <td>59771425</td>\n",
       "      <td>github</td>\n",
       "      <td>zephyrproject-rtos/zephyr</td>\n",
       "      <td>Internet of Things</td>\n",
       "    </tr>\n",
       "    <tr>\n",
       "      <th>8</th>\n",
       "      <td>41881900</td>\n",
       "      <td>github</td>\n",
       "      <td>microsoft/vscode</td>\n",
       "      <td></td>\n",
       "    </tr>\n",
       "    <tr>\n",
       "      <th>9</th>\n",
       "      <td>879761998</td>\n",
       "      <td>github</td>\n",
       "      <td>woowacourse-precourse/java-lotto-7</td>\n",
       "      <td></td>\n",
       "    </tr>\n",
       "  </tbody>\n",
       "</table>\n",
       "</div>"
      ],
      "text/plain": [
       "          id platform                           repo_name  \\\n",
       "0    4542716   github                       NixOS/nixpkgs   \n",
       "1  808144141   github           DigitalPlatDev/FreeDomain   \n",
       "2   75821432   github                   llvm/llvm-project   \n",
       "3   12888993   github                 home-assistant/core   \n",
       "4   65600975   github                     pytorch/pytorch   \n",
       "5   19745004   github                           odoo/odoo   \n",
       "6  736802660   github                   ghscr/ghscription   \n",
       "7   59771425   github           zephyrproject-rtos/zephyr   \n",
       "8   41881900   github                    microsoft/vscode   \n",
       "9  879761998   github  woowacourse-precourse/java-lotto-7   \n",
       "\n",
       "                                               field  \n",
       "0                                                     \n",
       "1                                                     \n",
       "2  Cloud Native, Cloud Native - Wasm, Cloud Nativ...  \n",
       "3                                                     \n",
       "4                            Artificial Intelligence  \n",
       "5                                                     \n",
       "6                                                     \n",
       "7                                 Internet of Things  \n",
       "8                                                     \n",
       "9                                                     "
      ]
     },
     "execution_count": 33,
     "metadata": {},
     "output_type": "execute_result"
    }
   ],
   "source": [
    "repo_data"
   ]
  },
  {
   "cell_type": "code",
   "execution_count": 34,
   "metadata": {},
   "outputs": [
    {
     "name": "stdout",
     "output_type": "stream",
     "text": [
      "{'updatedAt': 1733146093564, 'type': 'repo', 'id': 16184957, 'labels': [{'id': ':companies/huawei', 'name': 'Huawei', 'type': 'Company'}, {'id': ':companies/huawei/openharmony', 'name': 'OpenHarmony', 'type': 'Project'}, {'id': ':foundations/openatom', 'name': 'OpenAtom Foundation', 'type': 'Foundation'}, {'id': ':regions/CN', 'name': 'China', 'type': 'Region-0'}]}\n",
      "****************************\n",
      "\n",
      "{'updatedAt': 1733145692278, 'type': 'repo', 'id': 10919030, 'labels': [{'id': ':companies/huawei', 'name': 'Huawei', 'type': 'Company'}, {'id': ':companies/huawei/openharmony', 'name': 'OpenHarmony', 'type': 'Project'}, {'id': ':foundations/openatom', 'name': 'OpenAtom Foundation', 'type': 'Foundation'}, {'id': ':regions/CN', 'name': 'China', 'type': 'Region-0'}]}\n",
      "****************************\n",
      "\n",
      "{'updatedAt': 1733145692369, 'type': 'repo', 'id': 8649239, 'labels': [{'id': ':companies/huawei', 'name': 'Huawei', 'type': 'Company'}, {'id': ':companies/huawei/mindspore', 'name': 'MindSpore', 'type': 'Project'}, {'id': ':regions/CN', 'name': 'China', 'type': 'Region-0'}]}\n",
      "****************************\n",
      "\n",
      "{'updatedAt': 1733146093667, 'type': 'repo', 'id': 16184969, 'labels': [{'id': ':companies/huawei', 'name': 'Huawei', 'type': 'Company'}, {'id': ':companies/huawei/openharmony', 'name': 'OpenHarmony', 'type': 'Project'}, {'id': ':foundations/openatom', 'name': 'OpenAtom Foundation', 'type': 'Foundation'}, {'id': ':regions/CN', 'name': 'China', 'type': 'Region-0'}]}\n",
      "****************************\n",
      "\n",
      "{'updatedAt': 1733146369674, 'type': 'repo', 'id': 19831219, 'labels': [{'id': ':companies/huawei', 'name': 'Huawei', 'type': 'Company'}, {'id': ':companies/huawei/openharmony', 'name': 'OpenHarmony', 'type': 'Project'}, {'id': ':foundations/openatom', 'name': 'OpenAtom Foundation', 'type': 'Foundation'}, {'id': ':regions/CN', 'name': 'China', 'type': 'Region-0'}]}\n",
      "****************************\n",
      "\n",
      "{'updatedAt': 1733146094072, 'type': 'repo', 'id': 11218621, 'labels': [{'id': ':companies/huawei', 'name': 'Huawei', 'type': 'Company'}, {'id': ':companies/huawei/openharmony', 'name': 'OpenHarmony', 'type': 'Project'}, {'id': ':foundations/openatom', 'name': 'OpenAtom Foundation', 'type': 'Foundation'}, {'id': ':regions/CN', 'name': 'China', 'type': 'Region-0'}]}\n",
      "****************************\n",
      "\n",
      "{'updatedAt': 1733146369831, 'type': 'repo', 'id': 17812931, 'labels': [{'id': ':companies/huawei', 'name': 'Huawei', 'type': 'Company'}, {'id': ':companies/huawei/openharmony', 'name': 'OpenHarmony', 'type': 'Project'}, {'id': ':foundations/openatom', 'name': 'OpenAtom Foundation', 'type': 'Foundation'}, {'id': ':regions/CN', 'name': 'China', 'type': 'Region-0'}]}\n",
      "****************************\n",
      "\n",
      "{'updatedAt': 1733146093155, 'type': 'repo', 'id': 16184960, 'labels': [{'id': ':companies/huawei', 'name': 'Huawei', 'type': 'Company'}, {'id': ':companies/huawei/openharmony', 'name': 'OpenHarmony', 'type': 'Project'}, {'id': ':foundations/openatom', 'name': 'OpenAtom Foundation', 'type': 'Foundation'}, {'id': ':regions/CN', 'name': 'China', 'type': 'Region-0'}]}\n",
      "****************************\n",
      "\n",
      "{'updatedAt': 1733145394564, 'type': 'repo', 'id': 7696525, 'labels': [{'id': ':companies/huawei', 'name': 'Huawei', 'type': 'Company'}, {'id': ':companies/huawei/openeuler', 'name': 'openEuler', 'type': 'Project'}, {'id': ':foundations/openatom', 'name': 'OpenAtom Foundation', 'type': 'Foundation'}, {'id': ':regions/CN', 'name': 'China', 'type': 'Region-0'}]}\n",
      "****************************\n",
      "\n",
      "{'updatedAt': 1733146726847, 'type': 'repo', 'id': 20740755, 'labels': [{'id': ':companies/huawei', 'name': 'Huawei', 'type': 'Company'}, {'id': ':companies/huawei/mindspore', 'name': 'MindSpore', 'type': 'Project'}, {'id': ':regions/CN', 'name': 'China', 'type': 'Region-0'}]}\n",
      "****************************\n",
      "\n"
     ]
    }
   ],
   "source": [
    "import pandas as pd\n",
    "import requests\n",
    "# 修改后的 get_contributors 函数，确保返回字典\n",
    "def get_contributors_gitee(repo_name): \n",
    "    url_repo_contributors = f\"https://oss.open-digger.cn/gitee/{repo_name}/meta.json\"\n",
    "    try:\n",
    "        response = requests.get(url_repo_contributors)\n",
    "        response.raise_for_status()\n",
    "        contributors_data = response.json()\n",
    "        return contributors_data\n",
    "    except requests.exceptions.RequestException as e:\n",
    "        print(f\"Error fetching data for {repo_name}: {e}\")\n",
    "        return {}  # 返回空字典，而不是 set()\n",
    "\n",
    "# 从 Excel 文件读取数据\n",
    "repo_data = pd.read_excel(\"data/repo_list_gitee.xlsx\")\n",
    "repo_data=repo_data[:10]\n",
    "for i in range(len(repo_data)):\n",
    "    print(get_contributors_gitee(repo_data['repo_name'][i]))\n",
    "    print(\"****************************\\n\")"
   ]
  },
  {
   "cell_type": "code",
   "execution_count": 8,
   "metadata": {},
   "outputs": [
    {
     "name": "stdout",
     "output_type": "stream",
     "text": [
      "{'updatedAt': 1733146093564, 'type': 'repo', 'id': 16184957, 'labels': [{'id': ':companies/huawei', 'name': 'Huawei', 'type': 'Company'}, {'id': ':companies/huawei/openharmony', 'name': 'OpenHarmony', 'type': 'Project'}, {'id': ':foundations/openatom', 'name': 'OpenAtom Foundation', 'type': 'Foundation'}, {'id': ':regions/CN', 'name': 'China', 'type': 'Region-0'}]}\n"
     ]
    },
    {
     "data": {
      "text/plain": [
       "\"\\n# 新增 'region' 列，使用 get_contributors 获取数据并提取地区名称\\nrepo_data['region'] = [\\n    extract_region(get_contributors(repo_data['repo_name'][i]))\\n    for i in range(len(repo_data))\\n]\\n\""
      ]
     },
     "execution_count": 8,
     "metadata": {},
     "output_type": "execute_result"
    }
   ],
   "source": [
    "import requests\n",
    "import pandas as pd\n",
    "\n",
    "# 修改后的 get_contributors 函数，确保返回字典\n",
    "def get_contributors(repo_name): \n",
    "    url_repo_contributors = f\"https://oss.open-digger.cn/gitee/{repo_name}/meta.json\"\n",
    "    try:\n",
    "        response = requests.get(url_repo_contributors)\n",
    "        response.raise_for_status()\n",
    "        contributors_data = response.json()\n",
    "        return contributors_data\n",
    "    except requests.exceptions.RequestException as e:\n",
    "        print(f\"Error fetching data for {repo_name}: {e}\")\n",
    "        return {}  # 返回空字典，而不是 set()\n",
    "\n",
    "# 从字典中提取地区名称的函数\n",
    "def extract_region(contributors_dict):\n",
    "    for label in contributors_dict.get('labels', []):\n",
    "        if label.get('type') == 'Region-0':\n",
    "            return label.get('name')\n",
    "    return None\n",
    "\n",
    "# 假设 repo_data 是从 Excel 中读取的数据\n",
    "repo_data = pd.read_excel(\"data/repo_list_gitee.xlsx\")\n",
    "#repo_data=repo_data[:1]\n",
    "print(get_contributors(repo_data['repo_name'][0]))\n",
    "'''\n",
    "# 新增 'region' 列，使用 get_contributors 获取数据并提取地区名称\n",
    "repo_data['region'] = [\n",
    "    extract_region(get_contributors(repo_data['repo_name'][i]))\n",
    "    for i in range(len(repo_data))\n",
    "]\n",
    "'''\n",
    "\n"
   ]
  },
  {
   "cell_type": "code",
   "execution_count": 6,
   "metadata": {},
   "outputs": [],
   "source": [
    "def get_contributors(platform, repo_name):\n",
    "    url_repo_contributors = f\"https://oss.open-digger.cn/{platform}/{repo_name}/meta.json\"\n",
    "    try:\n",
    "        response = requests.get(url_repo_contributors)\n",
    "        response.raise_for_status()\n",
    "        contributors_data = response.json()\n",
    "        return contributors_data\n",
    "    except requests.exceptions.RequestException as e:\n",
    "        print(f\"Error fetching data for {repo_name}: {e}\")\n",
    "        return set()\n"
   ]
  },
  {
   "cell_type": "code",
   "execution_count": 23,
   "metadata": {},
   "outputs": [],
   "source": [
    "import requests\n",
    "import pandas as pd\n",
    "\n",
    "# 修改后的 get_contributors 函数，确保返回字典\n",
    "def get_contributors(repo_name): \n",
    "    url_repo_contributors = f\"https://oss.open-digger.cn/github/{repo_name}/meta.json\"\n",
    "    try:\n",
    "        response = requests.get(url_repo_contributors)\n",
    "        response.raise_for_status()\n",
    "        contributors_data = response.json()\n",
    "        return contributors_data\n",
    "    except requests.exceptions.RequestException as e:\n",
    "        print(f\"Error fetching data for {repo_name}: {e}\")\n",
    "        return {}  # 返回空字典，而不是 set()"
   ]
  },
  {
   "cell_type": "code",
   "execution_count": 20,
   "metadata": {},
   "outputs": [],
   "source": [
    "# 提取位置信息的函数\n",
    "def extract_location(contributor_data):\n",
    "    if 'info' in contributor_data and 'location' in contributor_data['info']:\n",
    "        return contributor_data['info']['location']\n",
    "    return \"No location provided\""
   ]
  },
  {
   "cell_type": "code",
   "execution_count": 24,
   "metadata": {},
   "outputs": [
    {
     "name": "stdout",
     "output_type": "stream",
     "text": [
      "{'updatedAt': 1733168044253, 'type': 'user', 'id': 175387142, 'info': {'location': '', 'bio': 'A bot that collaborates with @SpecterShell', 'name': '', 'company': ''}}\n",
      "****************************\n",
      "\n",
      "{'updatedAt': 1733167914813, 'type': 'user', 'id': 79238446, 'info': {'location': '', 'bio': '', 'name': '', 'company': ''}}\n",
      "****************************\n",
      "\n",
      "{'updatedAt': 1733168059736, 'type': 'user', 'repos': [{'name': 'bdraco/yalexs', 'id': 349595486}, {'name': 'bdraco/pywizlight', 'id': 455989528}, {'name': 'bdraco/yalexs-ble', 'id': 516520695}, {'name': 'bdraco/index-503', 'id': 647833571}], 'info': {'location': 'Houston, TX', 'bio': 'If you enjoy my open source work, please consider donating to the Maui Food Bank', 'name': 'J. Nick Koston', 'company': ''}}\n",
      "****************************\n",
      "\n",
      "{'updatedAt': 1733168205055, 'type': 'user', 'repos': [{'name': 'Koenkk/zigbee-OTA', 'id': 247519053}, {'name': 'Koenkk/zigbee2mqtt', 'id': 128636610}, {'name': 'Koenkk/zigbee2mqtt-hassio-addon', 'id': 132810556}, {'name': 'Koenkk/zigbee-herdsman-converters', 'id': 134597023}, {'name': 'Koenkk/Z-Stack-firmware', 'id': 136431226}, {'name': 'Koenkk/zigbee2mqtt.io', 'id': 170371837}, {'name': 'Koenkk/zigbee-herdsman', 'id': 192117701}, {'name': 'Koenkk/zigbee2mqtt-chart', 'id': 800158818}, {'name': 'Koenkk/zigbee2mqtt-user-extensions', 'id': 643544572}], 'info': {'location': 'The Netherlands, Helmond', 'bio': 'Founder of Zigbee2MQTT 🐝, zigbee-herdsman 🐏 and zigbee-herdsman-converters 🧰\\r\\n \\r\\nSenior software engineer @ ASML 👷\\u200d♂️', 'name': 'Koen Kanters', 'company': 'ASML'}}\n",
      "****************************\n",
      "\n",
      "{'updatedAt': 1733161104146, 'type': 'user', 'id': 116184, 'info': {'location': 'Switzerland', 'bio': 'Just another engineer working on Fedora, the Fedora Security Lab and @NixOS. Sporadically also on @home-assistant and @alpinelinux. ', 'name': 'Fabian Affolter', 'company': ''}}\n",
      "****************************\n",
      "\n",
      "{'updatedAt': 1733162338606, 'type': 'user', 'id': 1309177, 'info': {'location': 'Brooklyn, NY', 'bio': 'Building @astral-sh: high-performance developer tools for Python, starting with Ruff.', 'name': 'Charlie Marsh', 'company': '@astral-sh'}}\n",
      "****************************\n",
      "\n",
      "{'updatedAt': 1733168141155, 'type': 'user', 'repos': [{'name': 'frenck/python-wled', 'id': 218154496}, {'name': 'frenck/awesome-home-assistant', 'id': 142909126}, {'name': 'frenck/spook', 'id': 605635573}], 'info': {'location': 'Enschede, The Netherlands', 'bio': 'A Human. Being. Him/He. Dad. Open Sourcerer. @home-assistant dev. Passionate. Dedicated. Life Motto: Make a positive difference every single day❤️ Be the change', 'name': 'Franck Nijhof', 'company': '@home-assistant @hassio-addons'}}\n",
      "****************************\n",
      "\n",
      "{'updatedAt': 1733168247147, 'type': 'user', 'repos': [{'name': 'chenrui333/homebrew-core', 'id': 175702214}], 'info': {'location': 'New York', 'bio': '', 'name': 'Rui Chen', 'company': '@meetup '}}\n",
      "****************************\n",
      "\n",
      "{'updatedAt': 1733167914377, 'type': 'user', 'id': 77512843, 'info': {'location': '', 'bio': '', 'name': '', 'company': ''}}\n",
      "****************************\n",
      "\n",
      "{'updatedAt': 1733168225614, 'type': 'user', 'repos': [{'name': 'glenn-jocher/yolov5', 'id': 407537823}, {'name': 'glenn-jocher/ultralytics', 'id': 667345814}], 'info': {'location': 'Spain ⇄ California', 'bio': 'YOLOv8 🚀 and Vision AI ⭐', 'name': 'Glenn Jocher', 'company': '@ultralytics'}}\n",
      "****************************\n",
      "\n"
     ]
    }
   ],
   "source": [
    "# 从 Excel 文件读取数据\n",
    "repo_data = pd.read_excel(\"data/user_list_github.xlsx\")\n",
    "repo_data=repo_data[:10]\n",
    "for i in range(len(repo_data)):\n",
    "    print(get_contributors(repo_data['actor_login'][i]))\n",
    "    print(\"****************************\\n\")"
   ]
  },
  {
   "cell_type": "code",
   "execution_count": null,
   "metadata": {},
   "outputs": [],
   "source": []
  }
 ],
 "metadata": {
  "kernelspec": {
   "display_name": "openrank",
   "language": "python",
   "name": "python3"
  },
  "language_info": {
   "codemirror_mode": {
    "name": "ipython",
    "version": 3
   },
   "file_extension": ".py",
   "mimetype": "text/x-python",
   "name": "python",
   "nbconvert_exporter": "python",
   "pygments_lexer": "ipython3",
   "version": "3.12.8"
  }
 },
 "nbformat": 4,
 "nbformat_minor": 2
}
