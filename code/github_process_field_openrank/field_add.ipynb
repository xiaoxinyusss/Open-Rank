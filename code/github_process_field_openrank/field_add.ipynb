{
 "cells": [
  {
   "cell_type": "code",
   "execution_count": 3,
   "metadata": {},
   "outputs": [
    {
     "name": "stdout",
     "output_type": "stream",
     "text": [
      "合并后的文件已保存到: data_field/field_add.xlsx\n"
     ]
    }
   ],
   "source": [
    "import pandas as pd\n",
    "import os\n",
    "\n",
    "\n",
    "def merge_excel_files(file1, file2, output_file):\n",
    "    # 读取第一个 Excel 文件\n",
    "    df1 = pd.read_excel(file1)\n",
    "    # 读取第二个 Excel 文件\n",
    "    df2 = pd.read_excel(file2)\n",
    "    \n",
    "    # 通过 'id' 字段将两个 DataFrame 进行合并，使用左连接\n",
    "    merged_df = pd.merge(df1, df2[['id', 'month_records']], on='id', how='left')\n",
    "    \n",
    "    # 将合并后的 DataFrame 保存到新的 Excel 文件中\n",
    "    merged_df.to_excel(output_file, index=False)\n",
    "    print(f\"合并后的文件已保存到: {output_file}\")\n",
    "\n",
    "\n",
    "# 示例调用\n",
    "file1 = 'data_field/field_process.xlsx'\n",
    "file2 = 'data_field/repo_github_openrank_M2.xlsx'\n",
    "output_file = 'data_field/field_add.xlsx'\n",
    "\n",
    "\n",
    "# 确保目录存在\n",
    "if not os.path.exists('data_field'):\n",
    "    os.makedirs('data_field')\n",
    "\n",
    "\n",
    "merge_excel_files(file1, file2, output_file)"
   ]
  },
  {
   "cell_type": "code",
   "execution_count": null,
   "metadata": {},
   "outputs": [],
   "source": []
  },
  {
   "cell_type": "code",
   "execution_count": null,
   "metadata": {},
   "outputs": [],
   "source": []
  },
  {
   "cell_type": "code",
   "execution_count": null,
   "metadata": {},
   "outputs": [],
   "source": []
  },
  {
   "cell_type": "code",
   "execution_count": null,
   "metadata": {},
   "outputs": [],
   "source": []
  }
 ],
 "metadata": {
  "kernelspec": {
   "display_name": "base",
   "language": "python",
   "name": "python3"
  },
  "language_info": {
   "codemirror_mode": {
    "name": "ipython",
    "version": 3
   },
   "file_extension": ".py",
   "mimetype": "text/x-python",
   "name": "python",
   "nbconvert_exporter": "python",
   "pygments_lexer": "ipython3",
   "version": "3.8.8"
  }
 },
 "nbformat": 4,
 "nbformat_minor": 2
}
