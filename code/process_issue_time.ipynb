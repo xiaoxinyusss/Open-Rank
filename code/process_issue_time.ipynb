{
 "cells": [
  {
   "cell_type": "code",
   "execution_count": 1,
   "metadata": {},
   "outputs": [],
   "source": [
    "import pandas as pd\n",
    "\n",
    "# 读取 repo_field_issue_Q.xlsx 文件\n",
    "def read_and_process_data(file_path):\n",
    "    # 读取 Excel 文件\n",
    "    df = pd.read_excel(file_path)\n",
    "    \n",
    "    # 处理 field 字段：保留 field 为数据并删除 0 值的数据\n",
    "    df_filtered = df[df['field'].notna()]  # 保留有 field 值的行\n",
    "    df_filtered = df_filtered[df_filtered['field'] != 0]  # 删除值为0的行\n",
    "    \n",
    "    return df_filtered\n",
    "\n",
    "# 按照 \"Database\"、\"Artificial Intelligence\"、\"Cloud Native\" 分组，并统计 2024Q3 字段值的占比\n",
    "def group_and_calculate(df):\n",
    "    # 定义分类区间\n",
    "    bins = [0, 15, 30, float('inf')]\n",
    "    labels = ['0-15', '15-30', '30+']\n",
    "\n",
    "    # 按 field 分组处理\n",
    "    grouped = df.groupby('field')\n",
    "\n",
    "    # 统计每个分组的 2024_Q3 字段值在不同区间的占比\n",
    "    result = {}\n",
    "    \n",
    "    for field_value, group in grouped:\n",
    "        # 根据 2024Q3 字段值划分到不同区间\n",
    "        group['2024Q3_category'] = pd.cut(group['2024Q3'], bins=bins, labels=labels, right=False)\n",
    "        \n",
    "        # 计算每个区间的占比\n",
    "        category_counts = group['2024Q3_category'].value_counts(normalize=True) * 100  # 占比百分比\n",
    "        result[field_value] = category_counts.to_dict()\n",
    "    \n",
    "    return result\n",
    "\n",
    "# 打印统计结果\n",
    "def print_results(results):\n",
    "    for field_value, category_counts in results.items():\n",
    "        print(f\"Field: {field_value}\")\n",
    "        for category, percentage in category_counts.items():\n",
    "            print(f\"  {category}: {percentage:.2f}%\")\n",
    "        print(\"-\" * 40)\n",
    "\n"
   ]
  },
  {
   "cell_type": "code",
   "execution_count": 4,
   "metadata": {},
   "outputs": [
    {
     "name": "stdout",
     "output_type": "stream",
     "text": [
      "Field: Artificial Intelligence\n",
      "  0-15: 84.04%\n",
      "  15-30: 9.98%\n",
      "  30+: 5.99%\n",
      "----------------------------------------\n",
      "Field: Big Data\n",
      "  0-15: 74.14%\n",
      "  15-30: 22.41%\n",
      "  30+: 3.45%\n",
      "----------------------------------------\n",
      "Field: Block Chain\n",
      "  0-15: 72.50%\n",
      "  15-30: 20.00%\n",
      "  30+: 7.50%\n",
      "----------------------------------------\n",
      "Field: Cloud Native\n",
      "  0-15: 64.82%\n",
      "  15-30: 23.92%\n",
      "  30+: 11.27%\n",
      "----------------------------------------\n",
      "Field: Database\n",
      "  0-15: 83.16%\n",
      "  15-30: 13.48%\n",
      "  30+: 3.37%\n",
      "----------------------------------------\n",
      "Field: Frontend\n",
      "  0-15: 82.88%\n",
      "  15-30: 14.41%\n",
      "  30+: 2.70%\n",
      "----------------------------------------\n",
      "Field: Internet of Things\n",
      "  0-15: 80.00%\n",
      "  15-30: 17.14%\n",
      "  30+: 2.86%\n",
      "----------------------------------------\n",
      "Field: Operating System\n",
      "  0-15: 90.70%\n",
      "  15-30: 4.65%\n",
      "  30+: 4.65%\n",
      "----------------------------------------\n",
      "Field: Registries & Application Delivery\n",
      "  30+: 100.00%\n",
      "  0-15: 0.00%\n",
      "  15-30: 0.00%\n",
      "----------------------------------------\n"
     ]
    }
   ],
   "source": [
    "\n",
    "# 读取并处理数据\n",
    "file_path = 'data/repo_field_issue_Q.xlsx'\n",
    "df_filtered = read_and_process_data(file_path)\n",
    "\n",
    "# 按照 field 分组并计算 2024Q3 字段的占比\n",
    "results = group_and_calculate(df_filtered)\n",
    "\n",
    "# 打印结果\n",
    "print_results(results)\n",
    "\n"
   ]
  },
  {
   "cell_type": "code",
   "execution_count": 3,
   "metadata": {},
   "outputs": [
    {
     "data": {
      "text/plain": [
       "{'Artificial Intelligence': {'0-15': 84.03990024937656,\n",
       "  '15-30': 9.975062344139651,\n",
       "  '30+': 5.985037406483791},\n",
       " 'Big Data': {'0-15': 74.13793103448276,\n",
       "  '15-30': 22.413793103448278,\n",
       "  '30+': 3.4482758620689653},\n",
       " 'Block Chain': {'0-15': 72.5, '15-30': 20.0, '30+': 7.5},\n",
       " 'Cloud Native': {'0-15': 64.81802426343154,\n",
       "  '15-30': 23.91681109185442,\n",
       "  '30+': 11.265164644714037},\n",
       " 'Database': {'0-15': 83.15602836879432,\n",
       "  '15-30': 13.47517730496454,\n",
       "  '30+': 3.368794326241135},\n",
       " 'Frontend': {'0-15': 82.88288288288288,\n",
       "  '15-30': 14.414414414414415,\n",
       "  '30+': 2.7027027027027026},\n",
       " 'Internet of Things': {'0-15': 80.0,\n",
       "  '15-30': 17.142857142857142,\n",
       "  '30+': 2.857142857142857},\n",
       " 'Operating System': {'0-15': 90.69767441860465,\n",
       "  '15-30': 4.651162790697675,\n",
       "  '30+': 4.651162790697675},\n",
       " 'Registries & Application Delivery': {'30+': 100.0,\n",
       "  '0-15': 0.0,\n",
       "  '15-30': 0.0}}"
      ]
     },
     "execution_count": 3,
     "metadata": {},
     "output_type": "execute_result"
    }
   ],
   "source": [
    "results"
   ]
  }
 ],
 "metadata": {
  "kernelspec": {
   "display_name": "base",
   "language": "python",
   "name": "python3"
  },
  "language_info": {
   "codemirror_mode": {
    "name": "ipython",
    "version": 3
   },
   "file_extension": ".py",
   "mimetype": "text/x-python",
   "name": "python",
   "nbconvert_exporter": "python",
   "pygments_lexer": "ipython3",
   "version": "3.8.8"
  }
 },
 "nbformat": 4,
 "nbformat_minor": 2
}
