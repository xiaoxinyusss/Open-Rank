{
 "cells": [
  {
   "cell_type": "code",
   "execution_count": 1,
   "metadata": {},
   "outputs": [
    {
     "name": "stdout",
     "output_type": "stream",
     "text": [
      "合并后的文件已保存到: data/stars_Q.xlsx\n"
     ]
    }
   ],
   "source": [
    "import pandas as pd\n",
    "\n",
    "def merge_excel_files(file1, file2, output_file):\n",
    "    # 读取第一个 Excel 文件\n",
    "    df1 = pd.read_excel(file1)\n",
    "    # 读取第二个 Excel 文件\n",
    "    df2 = pd.read_excel(file2)\n",
    "    \n",
    "    # 通过 'id' 字段将两个 DataFrame 进行合并，使用左连接\n",
    "    merged_df = pd.merge(df1, df2[['id', '2023Q3', '2023Q4', '2024Q1', '2024Q2', '2024Q3']], on='id', how='left')\n",
    "    \n",
    "    # 将合并后的 DataFrame 保存到新的 Excel 文件中\n",
    "    merged_df.to_excel(output_file, index=False)\n",
    "    print(f\"合并后的文件已保存到: {output_file}\")\n",
    "\n",
    "# 调用\n",
    "file1 = 'data/repo_list_gitee_company.xlsx'\n",
    "file2 = 'data/repo_gitee_stars_Q.xlsx'\n",
    "output_file = 'data/stars_Q.xlsx'\n",
    "merge_excel_files(file1, file2, output_file)"
   ]
  },
  {
   "cell_type": "code",
   "execution_count": 2,
   "metadata": {},
   "outputs": [
    {
     "name": "stdout",
     "output_type": "stream",
     "text": [
      "           2023Q3  2023Q4  2024Q1  2024Q2  2024Q3\n",
      "company                                          \n",
      "Alibaba     17.92   15.08   15.04   12.88   11.04\n",
      "Huawei      13.73   14.75   12.97   11.85   10.46\n",
      "openKylin   13.06   18.90   13.92   16.32   14.05\n"
     ]
    }
   ],
   "source": [
    "import pandas as pd\n",
    "import numpy as np\n",
    "\n",
    "# 读取 Excel 文件\n",
    "df = pd.read_excel('data/stars_Q.xlsx')\n",
    "\n",
    "# 去除包含 0 的行\n",
    "df = df[(df!= 0).all(axis=1)]\n",
    "\n",
    "\n",
    "filtered_df = df[df['company'].isin(['Huawei', 'Alibaba', 'openKylin'])]\n",
    "\n",
    "columns_to_check =['2023Q3', '2023Q4', '2024Q1', '2024Q2', '2024Q3']\n",
    "\n",
    "\n",
    "grouped_df = filtered_df.groupby('company')\n",
    "\n",
    "grouped_mean = grouped_df[columns_to_check].mean().round(2)\n",
    "print(grouped_mean)"
   ]
  },
  {
   "cell_type": "code",
   "execution_count": null,
   "metadata": {},
   "outputs": [],
   "source": []
  },
  {
   "cell_type": "code",
   "execution_count": null,
   "metadata": {},
   "outputs": [],
   "source": []
  }
 ],
 "metadata": {
  "kernelspec": {
   "display_name": "base",
   "language": "python",
   "name": "python3"
  },
  "language_info": {
   "codemirror_mode": {
    "name": "ipython",
    "version": 3
   },
   "file_extension": ".py",
   "mimetype": "text/x-python",
   "name": "python",
   "nbconvert_exporter": "python",
   "pygments_lexer": "ipython3",
   "version": "3.8.8"
  }
 },
 "nbformat": 4,
 "nbformat_minor": 2
}
